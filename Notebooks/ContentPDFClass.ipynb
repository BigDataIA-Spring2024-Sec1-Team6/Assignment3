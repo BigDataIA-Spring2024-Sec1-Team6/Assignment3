{
 "cells": [
  {
   "cell_type": "markdown",
   "metadata": {},
   "source": [
    "## ContentPDFClass "
   ]
  },
  {
   "cell_type": "markdown",
   "metadata": {},
   "source": [
    "Validations using Pydantic "
   ]
  },
  {
   "cell_type": "code",
   "execution_count": null,
   "metadata": {},
   "outputs": [
    {
     "name": "stderr",
     "output_type": "stream",
     "text": [
      "/var/folders/xp/c_wx8kld3r9f7vpp0hvq86380000gn/T/ipykernel_26618/889402256.py:8: PydanticDeprecatedSince20: Pydantic V1 style `@validator` validators are deprecated. You should migrate to Pydantic V2 style `@field_validator` validators, see the migration guide for more details. Deprecated in Pydantic V2.0 to be removed in V3.0. See Pydantic V2 Migration Guide at https://errors.pydantic.dev/2.6/migration/\n",
      "  @validator('text')\n",
      "/var/folders/xp/c_wx8kld3r9f7vpp0hvq86380000gn/T/ipykernel_26618/889402256.py:15: PydanticDeprecatedSince20: Pydantic V1 style `@validator` validators are deprecated. You should migrate to Pydantic V2 style `@field_validator` validators, see the migration guide for more details. Deprecated in Pydantic V2.0 to be removed in V3.0. See Pydantic V2 Migration Guide at https://errors.pydantic.dev/2.6/migration/\n",
      "  @validator('file_path')\n"
     ]
    }
   ],
   "source": [
    "from pydantic import BaseModel, constr, validator\n",
    "from pathlib import Path\n",
    "\n",
    "class ContentClass(BaseModel):\n",
    "    text: constr(min_length=10, max_length=10000)  # Assuming these length constraints\n",
    "    file_path: constr(min_length=1, max_length=200)\n",
    "\n",
    "    @validator('text')\n",
    "    @classmethod\n",
    "    def validate_text(cls, value):\n",
    "        if not value.strip():  # Check if text is not empty or whitespace\n",
    "            raise ValueError('Text cannot be empty')\n",
    "        return value\n",
    "\n",
    "    @validator('file_path')\n",
    "    @classmethod\n",
    "    def validate_file_path(cls, value):\n",
    "        file_path = Path(value)\n",
    "        if not file_path.exists():  # Check if file_path exists\n",
    "            raise ValueError('File path does not exist')\n",
    "        return value\n"
   ]
  },
  {
   "cell_type": "markdown",
   "metadata": {},
   "source": [
    "Testing using Pytest"
   ]
  },
  {
   "cell_type": "code",
   "execution_count": null,
   "metadata": {},
   "outputs": [],
   "source": [
    "import pytest\n",
    "from pydantic import ValidationError\n",
    "\n",
    "def test_valid_data():\n",
    "    # Valid data\n",
    "    data = {\n",
    "        \"text\": \"hi this is manimanya reddy its a beatiful day\",\n",
    "        \"file_path\": \"/Users/manyareddy/Downloads/content.csv\"\n",
    "    }\n",
    "    # Ensure no validation error is raised\n",
    "    assert ContentClass(**data)\n",
    "\n",
    "def test_invalid_text():\n",
    "    # Invalid text (empty)\n",
    "    data = {\n",
    "        \"text\": \"hi\",\n",
    "        \"file_path\": \"/Users/manyareddy/Downloads/content.csv\"\n",
    "    }\n",
    "    # Ensure validation error is raised for empty text\n",
    "    with pytest.raises(ValueError):\n",
    "        ContentClass(**data)\n",
    "\n",
    "def test_invalid_file_path():\n",
    "    # Invalid file path (file does not exist)\n",
    "    data = {\n",
    "        \"text\": \"this is text\",\n",
    "        \"file_path\": \"snfskndkz\"\n",
    "    }\n",
    "    # Ensure validation error is raised for non-existent file path\n",
    "    with pytest.raises(ValueError):\n",
    "        ContentClass(**data)\n"
   ]
  },
  {
   "cell_type": "code",
   "execution_count": null,
   "metadata": {},
   "outputs": [],
   "source": [
    "def test_invalid_file_path():\n",
    "    # Invalid file path (file does not exist)\n",
    "    data = {\n",
    "        \"text\": \"this is text\",\n",
    "        \"file_path\": \"snfskndkz\"\n",
    "    }\n",
    "    # Ensure validation error is raised for non-existent file path\n",
    "    with pytest.raises(ValueError):\n",
    "        ContentClass(**data)"
   ]
  },
  {
   "cell_type": "code",
   "execution_count": null,
   "metadata": {},
   "outputs": [],
   "source": [
    "test_invalid_file_path()"
   ]
  },
  {
   "cell_type": "markdown",
   "metadata": {},
   "source": [
    "Validations using Pydantic "
   ]
  },
  {
   "cell_type": "code",
   "execution_count": null,
   "metadata": {},
   "outputs": [
    {
     "name": "stderr",
     "output_type": "stream",
     "text": [
      "/var/folders/xp/c_wx8kld3r9f7vpp0hvq86380000gn/T/ipykernel_26618/889402256.py:8: PydanticDeprecatedSince20: Pydantic V1 style `@validator` validators are deprecated. You should migrate to Pydantic V2 style `@field_validator` validators, see the migration guide for more details. Deprecated in Pydantic V2.0 to be removed in V3.0. See Pydantic V2 Migration Guide at https://errors.pydantic.dev/2.6/migration/\n",
      "  @validator('text')\n",
      "/var/folders/xp/c_wx8kld3r9f7vpp0hvq86380000gn/T/ipykernel_26618/889402256.py:15: PydanticDeprecatedSince20: Pydantic V1 style `@validator` validators are deprecated. You should migrate to Pydantic V2 style `@field_validator` validators, see the migration guide for more details. Deprecated in Pydantic V2.0 to be removed in V3.0. See Pydantic V2 Migration Guide at https://errors.pydantic.dev/2.6/migration/\n",
      "  @validator('file_path')\n"
     ]
    }
   ],
   "source": [
    "from pydantic import BaseModel, constr, validator\n",
    "from pathlib import Path\n",
    "\n",
    "class ContentClass(BaseModel):\n",
    "    text: constr(min_length=10, max_length=10000)  # Assuming these length constraints\n",
    "    file_path: constr(min_length=1, max_length=200)\n",
    "\n",
    "    @validator('text')\n",
    "    @classmethod\n",
    "    def validate_text(cls, value):\n",
    "        if not value.strip():  # Check if text is not empty or whitespace\n",
    "            raise ValueError('Text cannot be empty')\n",
    "        return value\n",
    "\n",
    "    @validator('file_path')\n",
    "    @classmethod\n",
    "    def validate_file_path(cls, value):\n",
    "        file_path = Path(value)\n",
    "        if not file_path.exists():  # Check if file_path exists\n",
    "            raise ValueError('File path does not exist')\n",
    "        return value\n"
   ]
  },
  {
   "cell_type": "markdown",
   "metadata": {},
   "source": [
    "Testing using Pytest"
   ]
  },
  {
   "cell_type": "code",
   "execution_count": null,
   "metadata": {},
   "outputs": [],
   "source": [
    "import pytest\n",
    "from pydantic import ValidationError\n",
    "\n",
    "def test_valid_data():\n",
    "    # Valid data\n",
    "    data = {\n",
    "        \"text\": \"hi this is manimanya reddy its a beatiful day\",\n",
    "        \"file_path\": \"/Users/manyareddy/Downloads/content.csv\"\n",
    "    }\n",
    "    # Ensure no validation error is raised\n",
    "    assert ContentClass(**data)\n",
    "\n",
    "def test_invalid_text():\n",
    "    # Invalid text (empty)\n",
    "    data = {\n",
    "        \"text\": \"hi\",\n",
    "        \"file_path\": \"/Users/manyareddy/Downloads/content.csv\"\n",
    "    }\n",
    "    # Ensure validation error is raised for empty text\n",
    "    with pytest.raises(ValueError):\n",
    "        ContentClass(**data)\n",
    "\n",
    "def test_invalid_file_path():\n",
    "    # Invalid file path (file does not exist)\n",
    "    data = {\n",
    "        \"text\": \"this is text\",\n",
    "        \"file_path\": \"snfskndkz\"\n",
    "    }\n",
    "    # Ensure validation error is raised for non-existent file path\n",
    "    with pytest.raises(ValueError):\n",
    "        ContentClass(**data)\n"
   ]
  },
  {
   "cell_type": "code",
   "execution_count": null,
   "metadata": {},
   "outputs": [],
   "source": [
    "def test_invalid_file_path():\n",
    "    # Invalid file path (file does not exist)\n",
    "    data = {\n",
    "        \"text\": \"this is text\",\n",
    "        \"file_path\": \"snfskndkz\"\n",
    "    }\n",
    "    # Ensure validation error is raised for non-existent file path\n",
    "    with pytest.raises(ValueError):\n",
    "        ContentClass(**data)"
   ]
  },
  {
   "cell_type": "code",
   "execution_count": null,
   "metadata": {},
   "outputs": [],
   "source": [
    "test_invalid_file_path()"
   ]
  }
 ],
 "metadata": {
  "kernelspec": {
   "display_name": "Python 3",
   "language": "python",
   "name": "python3"
  },
  "language_info": {
   "name": "python",
   "version": "3.9.6"
  }
 },
 "nbformat": 4,
 "nbformat_minor": 2
}
