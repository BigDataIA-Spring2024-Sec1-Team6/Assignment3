{
 "cells": [
  {
   "cell_type": "markdown",
   "id": "6ec71caa",
   "metadata": {},
   "source": [
    "### Pydantic\n"
   ]
  },
  {
   "cell_type": "markdown",
   "id": "177cb5fd",
   "metadata": {},
   "source": [
    "###### Importing Libraries"
   ]
  },
  {
   "cell_type": "code",
   "execution_count": null,
   "id": "8393ef3d",
   "metadata": {},
   "outputs": [],
   "source": [
    "import pandas as pd\n",
    "from pydantic import BaseModel, ValidationError, validator\n",
    "from pydantic.networks import HttpUrl\n",
    "from typing import Optional\n",
    "import re\n"
   ]
  },
  {
   "cell_type": "markdown",
   "id": "f0d8cd72",
   "metadata": {},
   "source": [
    "##### Creating URL Class"
   ]
  },
  {
   "cell_type": "code",
   "execution_count": null,
   "id": "2e183d7d",
   "metadata": {},
   "outputs": [],
   "source": [
    "class URLClass(BaseModel):\n",
    "    ID: Optional[int]\n",
    "    TOPIC_NAME: Optional[str]\n",
    "    YEAR: Optional[str]\n",
    "    LEVEL: Optional[str]\n",
    "    INTRODUCTION_SUMMARY: Optional[str]\n",
    "    LEARNING_OUTCOMES: Optional[str]\n",
    "    SUMMARY_PAGE_LINK: Optional[HttpUrl]\n",
    "    PDF_FILE_LINK: Optional[HttpUrl]\n"
   ]
  },
  {
   "cell_type": "markdown",
   "id": "10836c69",
   "metadata": {},
   "source": [
    "###### Validation for ID"
   ]
  },
  {
   "cell_type": "code",
   "execution_count": null,
   "id": "aa9f0acb",
   "metadata": {},
   "outputs": [],
   "source": [
    "@validator('ID')\n",
    "    def validate_id(cls, v):\n",
    "        if v is not None and v < 0:\n",
    "            raise ValueError('ID must be a positive integer')\n",
    "        return v"
   ]
  },
  {
   "cell_type": "markdown",
   "id": "8046ea3c",
   "metadata": {},
   "source": [
    "##### Validation for Year"
   ]
  },
  {
   "cell_type": "code",
   "execution_count": null,
   "id": "dc61075f",
   "metadata": {},
   "outputs": [],
   "source": [
    "@validator('YEAR')\n",
    "    def validate_year(cls, v):\n",
    "        if v is not None:\n",
    "            if v.strip().lower() == 'unkn':\n",
    "                return None  # Treat 'Unkn' as None\n",
    "            year_str = re.sub(r'\\D', '', v)  # Extract digits\n",
    "            if not year_str.isdigit():\n",
    "                raise ValueError(f'Invalid year format: {v}. Must contain numeric characters only.')\n",
    "            year_int = int(year_str)\n",
    "            if year_int < 2000 or year_int > 2050:\n",
    "                raise ValueError('Year must be between 2000 and 2050')\n",
    "            return str(year_int)\n",
    "        else:\n",
    "            return None"
   ]
  },
  {
   "cell_type": "markdown",
   "id": "bbc18098",
   "metadata": {},
   "source": [
    "##### Validation for URL"
   ]
  },
  {
   "cell_type": "code",
   "execution_count": null,
   "id": "45f83c95",
   "metadata": {},
   "outputs": [],
   "source": [
    "@validator('SUMMARY_PAGE_LINK', 'PDF_FILE_LINK')\n",
    "    def validate_url(cls, v):\n",
    "        if v is not None and not v.scheme.startswith('https'):\n",
    "            raise ValueError('URL must start with \"https://\"')\n",
    "        return v"
   ]
  },
  {
   "cell_type": "markdown",
   "id": "6e79b637",
   "metadata": {},
   "source": [
    "##### Validation for Level"
   ]
  },
  {
   "cell_type": "code",
   "execution_count": null,
   "id": "c649d154",
   "metadata": {},
   "outputs": [],
   "source": [
    "@validator('LEVEL')\n",
    "    def validate_level(cls, v):\n",
    "        if v is not None:\n",
    "            if v.strip().lower() == 'unknown':\n",
    "                return None  # Treat 'Unknown' as None\n",
    "            if pd.isna(v):\n",
    "                return ''\n",
    "            pattern = r'^Level\\s+(I|II|III|IV|V|VI|VII|VIII|IX|X+)$'\n",
    "            if not re.match(pattern, v):\n",
    "                raise ValueError(f'Invalid format for Level: {v}. It should be \"Level\" followed by a Roman numeral')\n",
    "        return v\n"
   ]
  },
  {
   "cell_type": "markdown",
   "id": "6553dab4",
   "metadata": {},
   "source": [
    "##### Validation for content "
   ]
  },
  {
   "cell_type": "code",
   "execution_count": null,
   "id": "13b16eee",
   "metadata": {},
   "outputs": [],
   "source": [
    "@validator('INTRODUCTION_SUMMARY', 'TOPIC_NAME', 'LEARNING_OUTCOMES')\n",
    "    def validate_string_not_empty(cls, v):\n",
    "        if v is not None and not v.strip():\n",
    "            return \"NULL\"\n",
    "        return v"
   ]
  },
  {
   "cell_type": "markdown",
   "id": "0e323c3f",
   "metadata": {},
   "source": [
    "##### Going through each row and creating clean csv"
   ]
  },
  {
   "cell_type": "code",
   "execution_count": null,
   "id": "8d266214",
   "metadata": {},
   "outputs": [],
   "source": [
    "# Read the CSV file into a pandas DataFrame\n",
    "input_file_path = 'C:\\\\Users\\\\Client\\\\Desktop\\\\updated_worksheet.csv'\n",
    "output_file_path = 'C:\\\\Users\\\\Client\\\\Desktop\\\\worksheet_2.csv'\n",
    "\n",
    "df = pd.read_csv(input_file_path)\n",
    "\n",
    "# Validate each row of the DataFrame\n",
    "validated_data = []\n",
    "for index, row in df.iterrows():\n",
    "    data = row.to_dict()\n",
    "\n",
    "    # Replace NaN values with None\n",
    "    for key, value in data.items():\n",
    "        if pd.isna(value):\n",
    "            data[key] = None\n",
    "\n",
    "    try:\n",
    "        url_instance = URLClass(**data)\n",
    "        validated_data.append(data)\n",
    "        print(f\"Row {index + 1}: Data is valid!\")\n",
    "    except ValidationError as e:\n",
    "        print(f\"Row {index + 1}: Validation error(s): {e.errors()}\")\n",
    "\n",
    "# Create a new DataFrame from the validated data\n",
    "validated_df = pd.DataFrame(validated_data)\n",
    "\n",
    "# Append the validated data to the output CSV file\n",
    "with open(output_file_path, 'a', encoding='utf-8') as f:\n",
    "    validated_df.to_csv(f, index=False, header=f.tell() == 0)\n",
    "\n",
    "print(f\"Validated data has been appended to {output_file_path}\")"
   ]
  },
  {
   "cell_type": "code",
   "execution_count": null,
   "id": "24685b59",
   "metadata": {},
   "outputs": [],
   "source": []
  },
  {
   "cell_type": "code",
   "execution_count": null,
   "id": "dacbb978",
   "metadata": {},
   "outputs": [],
   "source": []
  },
  {
   "cell_type": "code",
   "execution_count": null,
   "id": "1c5af385",
   "metadata": {},
   "outputs": [],
   "source": []
  },
  {
   "cell_type": "code",
   "execution_count": null,
   "id": "c7743d6b",
   "metadata": {},
   "outputs": [],
   "source": [
    "# import pandas as pd\n",
    "# from pydantic import BaseModel, ValidationError, validator\n",
    "# from pydantic.networks import HttpUrl\n",
    "# from typing import Optional\n",
    "# import re\n",
    "\n",
    "# class URLClass(BaseModel):\n",
    "#     ID: Optional[int]\n",
    "#     TOPIC_NAME: Optional[str]\n",
    "#     YEAR: Optional[str]\n",
    "#     LEVEL: Optional[str]\n",
    "#     INTRODUCTION_SUMMARY: Optional[str]\n",
    "#     LEARNING_OUTCOMES: Optional[str]\n",
    "#     SUMMARY_PAGE_LINK: Optional[HttpUrl]\n",
    "#     PDF_FILE_LINK: Optional[HttpUrl]\n",
    "\n",
    "#     @validator('ID')\n",
    "#     def validate_id(cls, v):\n",
    "#         if v is not None and v < 0:\n",
    "#             raise ValueError('ID must be a positive integer')\n",
    "#         return v\n",
    "\n",
    "#     @validator('YEAR')\n",
    "#     def validate_year(cls, v):\n",
    "#         if v is not None:\n",
    "#             if v.strip().lower() == 'unkn':\n",
    "#                 return None  # Treat 'Unkn' as None\n",
    "#             year_str = re.sub(r'\\D', '', v)  # Extract digits\n",
    "#             if not year_str.isdigit():\n",
    "#                 raise ValueError(f'Invalid year format: {v}. Must contain numeric characters only.')\n",
    "#             year_int = int(year_str)\n",
    "#             if year_int < 2000 or year_int > 2050:\n",
    "#                 raise ValueError('Year must be between 2000 and 2050')\n",
    "#             return str(year_int)\n",
    "#         else:\n",
    "#             return None\n",
    "\n",
    "\n",
    "#     @validator('SUMMARY_PAGE_LINK', 'PDF_FILE_LINK')\n",
    "#     def validate_url(cls, v):\n",
    "#         if v is not None and not v.scheme.startswith('https'):\n",
    "#             raise ValueError('URL must start with \"https://\"')\n",
    "#         return v\n",
    "\n",
    "#     @validator('LEVEL')\n",
    "#     def validate_level(cls, v):\n",
    "#         if v is not None:\n",
    "#             if v.strip().lower() == 'unknown':\n",
    "#                 return None  # Treat 'Unknown' as None\n",
    "#             if pd.isna(v):\n",
    "#                 return ''\n",
    "#             pattern = r'^Level\\s+(I|II|III|IV|V|VI|VII|VIII|IX|X+)$'\n",
    "#             if not re.match(pattern, v):\n",
    "#                 raise ValueError(f'Invalid format for Level: {v}. It should be \"Level\" followed by a Roman numeral')\n",
    "#         return v\n",
    "\n",
    "#     @validator('INTRODUCTION_SUMMARY', 'TOPIC_NAME', 'LEARNING_OUTCOMES')\n",
    "#     def validate_string_not_empty(cls, v):\n",
    "#         if v is not None and not v.strip():\n",
    "#             return \"NULL\"\n",
    "#         return v\n",
    "\n",
    "# # Read the CSV file into a pandas DataFrame\n",
    "# input_file_path = 'C:\\\\Users\\\\Client\\\\Desktop\\\\updated_worksheet.csv'\n",
    "# output_file_path = 'C:\\\\Users\\\\Client\\\\Desktop\\\\worksheet_2.csv'\n",
    "\n",
    "# df = pd.read_csv(input_file_path)\n",
    "\n",
    "# # Validate each row of the DataFrame\n",
    "# validated_data = []\n",
    "# for index, row in df.iterrows():\n",
    "#     data = row.to_dict()\n",
    "\n",
    "#     # Replace NaN values with None\n",
    "#     for key, value in data.items():\n",
    "#         if pd.isna(value):\n",
    "#             data[key] = None\n",
    "\n",
    "#     try:\n",
    "#         url_instance = URLClass(**data)\n",
    "#         validated_data.append(data)\n",
    "#         print(f\"Row {index + 1}: Data is valid!\")\n",
    "#     except ValidationError as e:\n",
    "#         print(f\"Row {index + 1}: Validation error(s): {e.errors()}\")\n",
    "\n",
    "# # Create a new DataFrame from the validated data\n",
    "# validated_df = pd.DataFrame(validated_data)\n",
    "\n",
    "# # Append the validated data to the output CSV file\n",
    "# with open(output_file_path, 'a', encoding='utf-8') as f:\n",
    "#     validated_df.to_csv(f, index=False, header=f.tell() == 0)\n",
    "\n",
    "# print(f\"Validated data has been appended to {output_file_path}\")"
   ]
  },
  {
   "cell_type": "code",
   "execution_count": null,
   "id": "194d127e",
   "metadata": {},
   "outputs": [],
   "source": []
  },
  {
   "cell_type": "code",
   "execution_count": null,
   "id": "46efe5a5",
   "metadata": {},
   "outputs": [],
   "source": []
  },
  {
   "cell_type": "markdown",
   "id": "fbd4acd7",
   "metadata": {},
   "source": [
    "### Pytest\n"
   ]
  },
  {
   "cell_type": "code",
   "execution_count": 6,
   "id": "4febe05d",
   "metadata": {},
   "outputs": [],
   "source": [
    "import pytest\n",
    "from pydantic import ValidationError\n",
    "\n",
    "def test_valid_data():\n",
    "    data = {\n",
    "        \"ID\": 1,\n",
    "        \"TOPIC_NAME\": \"Machine Learning\",\n",
    "        \"YEAR\": \"2024\",\n",
    "        \"LEVEL\": \"Level II\",\n",
    "        \"INTRODUCTION_SUMMARY\": \"Investment firms are increasingly using technology...\",\n",
    "        \"LEARNING_OUTCOMES\": \"The member should be able to: describe supervised machine learning, unsupervised machine learning, and deep learning;\",\n",
    "        \"SUMMARY_PAGE_LINK\": \"https://www.cfainstitute.org/membership/professional-development/refresher-readings/machine-learning\",\n",
    "        \"PDF_FILE_LINK\": \"https://www.cfainstitute.org/membership/professional-development/refresher-readings/machine-learning.pdf\"\n",
    "    }\n",
    "    assert URLClass(**data)\n",
    "    print(\"Valid data\")\n",
    "\n",
    "    \n",
    "@pytest.mark.parametrize(\"invalid_id\", [-1, \"invalid\"])\n",
    "def test_invalid_id(invalid_id):\n",
    "    data = {\n",
    "        \"ID\": invalid_id,\n",
    "        \"TOPIC_NAME\": \"Quantitative Methods\",\n",
    "        \"YEAR\": \"2024\",\n",
    "        \"LEVEL\": \"Level II\",\n",
    "        \"INTRODUCTION_SUMMARY\": \"Investment firms are increasingly using technology...\",\n",
    "        \"LEARNING_OUTCOMES\": \"The member should be able to: describe supervised machine learning, unsupervised machine learning, and deep learning;\",\n",
    "        \"SUMMARY_PAGE_LINK\": \"https://www.cfainstitute.org/membership/professional-development/refresher-readings/machine-learning\",\n",
    "        \"PDF_FILE_LINK\": \"https://www.cfainstitute.org/membership/professional-development/refresher-readings/machine-learning.pdf\"\n",
    "    }\n",
    "    with pytest.raises(ValidationError) as excinfo:\n",
    "        URLClass(**data)\n",
    "    print(str(excinfo.value))\n",
    "\n",
    "@pytest.mark.parametrize(\"invalid_title\", [\"\", None])\n",
    "def test_invalid_title(invalid_title):\n",
    "    data = {\n",
    "        \"title\": invalid_title,\n",
    "        \"topic\": \"Quantitative Methods\",\n",
    "        \"published_year\": 2024,\n",
    "        \"level\": \"Level II\",\n",
    "        \"introduction\": \"Investment firms are increasingly using technology at every step of the investment management value chain—from improving their understanding of clients to uncovering new sources of alpha and executing trades more efficiently. Machine learning techniques, a central part of that technology, are the subject of this reading. These techniques first appeared in finance in the 1990s and have since flourished with the explosion of data and cheap computing power.This reading provides a high-level view of machine learning (ML).\",\n",
    "        \"learning_outcomes\": \"The member should be able to: describe supervised machine learning, unsupervised machine learning, and deep learning;\",\n",
    "        \"summary\": \"Machine learning methods are gaining usage at many stages in the investment management value chain. Among the major points made are the following\",\n",
    "        \"overview\": \"\",\n",
    "        \"link\": \"https://www.cfainstitute.org/membership/professional-development/refresher-readings/machine-learning\"\n",
    "    }\n",
    "    with pytest.raises(ValidationError) as excinfo:\n",
    "        URLClass(**data)\n",
    "    # Print the captured exception\n",
    "#     print(excinfo)\n",
    "    # Or print the exception message\n",
    "    print(str(excinfo.value))\n",
    "\n",
    "\n",
    "@pytest.mark.parametrize(\"invalid_year\", [\"1999\", \"2051\", \"invalid_year\"])\n",
    "def test_invalid_year(invalid_year):\n",
    "    data = {\n",
    "        \"ID\": 1,\n",
    "        \"TOPIC_NAME\": \"Quantitative Methods\",\n",
    "        \"YEAR\": invalid_year,\n",
    "        \"LEVEL\": \"Level II\",\n",
    "        \"INTRODUCTION_SUMMARY\": \"Investment firms are increasingly using technology...\",\n",
    "        \"LEARNING_OUTCOMES\": \"The member should be able to: describe supervised machine learning, unsupervised machine learning, and deep learning;\",\n",
    "        \"SUMMARY_PAGE_LINK\": \"https://www.cfainstitute.org/membership/professional-development/refresher-readings/machine-learning\",\n",
    "        \"PDF_FILE_LINK\": \"https://www.cfainstitute.org/membership/professional-development/refresher-readings/machine-learning.pdf\"\n",
    "    }\n",
    "    with pytest.raises(ValidationError) as excinfo:\n",
    "        URLClass(**data)\n",
    "    print(str(excinfo.value))\n",
    "\n",
    "\n",
    "@pytest.mark.parametrize(\"invalid_link\", [\"invalid_link\", \"ftp://example.com\"])\n",
    "def test_invalid_link(invalid_link):\n",
    "    data = {\n",
    "        \"ID\": 1,\n",
    "        \"TOPIC_NAME\": \"Quantitative Methods\",\n",
    "        \"YEAR\": \"2024\",\n",
    "        \"LEVEL\": \"Level II\",\n",
    "        \"INTRODUCTION_SUMMARY\": \"Investment firms are increasingly using technology...\",\n",
    "        \"LEARNING_OUTCOMES\": \"The member should be able to: describe supervised machine learning, unsupervised machine learning, and deep learning;\",\n",
    "        \"SUMMARY_PAGE_LINK\": invalid_link,\n",
    "        \"PDF_FILE_LINK\": invalid_link\n",
    "    }\n",
    "    with pytest.raises(ValidationError) as excinfo:\n",
    "        URLClass(**data)\n",
    "    print(str(excinfo.value))\n"
   ]
  },
  {
   "cell_type": "code",
   "execution_count": null,
   "id": "62de3fd0",
   "metadata": {},
   "outputs": [],
   "source": []
  },
  {
   "cell_type": "code",
   "execution_count": 10,
   "id": "29b117d3",
   "metadata": {},
   "outputs": [
    {
     "name": "stdout",
     "output_type": "stream",
     "text": [
      "Valid data\n"
     ]
    }
   ],
   "source": [
    "test_valid_data()"
   ]
  },
  {
   "cell_type": "code",
   "execution_count": null,
   "id": "0983ed66",
   "metadata": {},
   "outputs": [],
   "source": []
  },
  {
   "cell_type": "code",
   "execution_count": 23,
   "id": "8f69a181",
   "metadata": {},
   "outputs": [
    {
     "name": "stdout",
     "output_type": "stream",
     "text": [
      "1 validation error for URLClass\n",
      "YEAR\n",
      "  Input should be a valid string [type=string_type, input_value=1999, input_type=int]\n",
      "    For further information visit https://errors.pydantic.dev/2.6/v/string_type\n"
     ]
    }
   ],
   "source": [
    "test_invalid_year(1999)"
   ]
  },
  {
   "cell_type": "code",
   "execution_count": 13,
   "id": "48690668",
   "metadata": {},
   "outputs": [
    {
     "name": "stdout",
     "output_type": "stream",
     "text": [
      "1 validation error for URLClass\n",
      "ID\n",
      "  Input should be a valid integer, unable to parse string as an integer [type=int_parsing, input_value='', input_type=str]\n",
      "    For further information visit https://errors.pydantic.dev/2.6/v/int_parsing\n"
     ]
    }
   ],
   "source": [
    "test_invalid_id(\"\")"
   ]
  },
  {
   "cell_type": "code",
   "execution_count": 18,
   "id": "1c8fa61f",
   "metadata": {},
   "outputs": [
    {
     "name": "stdout",
     "output_type": "stream",
     "text": [
      "2 validation errors for URLClass\n",
      "SUMMARY_PAGE_LINK\n",
      "  URL scheme should be 'http' or 'https' [type=url_scheme, input_value='ftp://example.com', input_type=str]\n",
      "    For further information visit https://errors.pydantic.dev/2.6/v/url_scheme\n",
      "PDF_FILE_LINK\n",
      "  URL scheme should be 'http' or 'https' [type=url_scheme, input_value='ftp://example.com', input_type=str]\n",
      "    For further information visit https://errors.pydantic.dev/2.6/v/url_scheme\n"
     ]
    }
   ],
   "source": [
    "test_invalid_link(\"ftp://example.com\")"
   ]
  },
  {
   "cell_type": "code",
   "execution_count": null,
   "id": "0d3ab671",
   "metadata": {},
   "outputs": [],
   "source": [
    "test_invalid_link(\"https://example.com\")"
   ]
  }
 ],
 "metadata": {
  "kernelspec": {
   "display_name": "Python 3 (ipykernel)",
   "language": "python",
   "name": "python3"
  },
  "language_info": {
   "codemirror_mode": {
    "name": "ipython",
    "version": 3
   },
   "file_extension": ".py",
   "mimetype": "text/x-python",
   "name": "python",
   "nbconvert_exporter": "python",
   "pygments_lexer": "ipython3",
   "version": "3.11.4"
  }
 },
 "nbformat": 4,
 "nbformat_minor": 5
}
