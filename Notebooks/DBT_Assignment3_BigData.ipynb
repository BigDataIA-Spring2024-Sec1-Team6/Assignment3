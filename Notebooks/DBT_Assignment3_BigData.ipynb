{
  "nbformat": 4,
  "nbformat_minor": 0,
  "metadata": {
    "colab": {
      "provenance": []
    },
    "kernelspec": {
      "name": "python3",
      "display_name": "Python 3"
    },
    "language_info": {
      "name": "python"
    }
  },
  "cells": [
    {
      "cell_type": "markdown",
      "source": [
        "#**DBT**\n",
        "dbt is a transformation workflow that helps you get more work done while producing higher quality results. You can use dbt to modularize and centralize your analytics code, while also providing your data team with guardrails typically found in software engineering workflows. Collaborate on data models, version them, and test and document your queries before safely deploying them to production, with monitoring and visibility"
      ],
      "metadata": {
        "id": "iWlX3BV96Rf9"
      }
    },
    {
      "cell_type": "markdown",
      "source": [
        "###Snowflake setup:"
      ],
      "metadata": {
        "id": "DiabzS7A7YrC"
      }
    },
    {
      "cell_type": "markdown",
      "source": [
        "creating the required warehouse, databases, schemas."
      ],
      "metadata": {
        "id": "TsdhkW7L7tCf"
      }
    },
    {
      "cell_type": "code",
      "source": [
        "create warehouse DBT_WH;\n",
        "create database raw;\n",
        "create database DBT_analytics;\n",
        "create schema raw.cfa_data;\n",
        "create schema raw.grobid_data;"
      ],
      "metadata": {
        "id": "liMP2nSB7zq6"
      },
      "execution_count": null,
      "outputs": []
    },
    {
      "cell_type": "markdown",
      "source": [
        "Creating the required schemas and copying the tables formt he AWS bucket to the Snowflake"
      ],
      "metadata": {
        "id": "fPHndBFm8RJz"
      }
    },
    {
      "cell_type": "code",
      "source": [
        "copy into raw.cfa_data.CFA_Content (ID, Topic_Name, YEAR_, Level , INTRODUCTION_SUMMARY , LEARNING_OUTCOMES , SUMMARY_PAGE_LINK , PDF_FILE_LINK)\n",
        "\n",
        "from 's3://assign2amos/Grobid_CSV/GrobidContent_dataSet.csv_0_0_0.csv.gz'\n",
        "file_format = (\n",
        "    type = 'CSV'\n",
        "    field_delimiter = ','\n",
        "    skip_header = 1\n",
        "    );"
      ],
      "metadata": {
        "id": "oxj3ffBe8QnD"
      },
      "execution_count": null,
      "outputs": []
    },
    {
      "cell_type": "code",
      "source": [
        "copy into raw.cfa_data.CFA_Content (ID, Topic_Name, YEAR_, Level , INTRODUCTION_SUMMARY , LEARNING_OUTCOMES , SUMMARY_PAGE_LINK , PDF_FILE_LINK)\n",
        "\n",
        "from 's3://assign2amos/Grobid_CSV/GrobidMetaData_dataSet.csv_0_0_0.csv.gz'\n",
        "file_format = (\n",
        "    type = 'CSV'\n",
        "    field_delimiter = ','\n",
        "    skip_header = 1\n",
        "    );"
      ],
      "metadata": {
        "id": "Lpsf5ZE29ijv"
      },
      "execution_count": null,
      "outputs": []
    },
    {
      "cell_type": "code",
      "source": [
        "copy into raw.cfa_data.CFA_Content (ID, Topic_Name, YEAR_, Level , INTRODUCTION_SUMMARY , LEARNING_OUTCOMES , SUMMARY_PAGE_LINK , PDF_FILE_LINK)\n",
        "\n",
        "from 's3://assign2amos/CFA_CSV/CFAcontent_dataSet.csv_0_0_0.csv.gz'\n",
        "\n",
        "file_format = (\n",
        "    type = 'CSV'\n",
        "    field_delimiter = ','\n",
        "    skip_header = 1\n",
        "    );"
      ],
      "metadata": {
        "id": "6qb2NrUG8k_5"
      },
      "execution_count": null,
      "outputs": []
    },
    {
      "cell_type": "code",
      "source": [
        "Verified the changes using the select query"
      ],
      "metadata": {
        "id": "yB6QgAOI9rIv"
      },
      "execution_count": null,
      "outputs": []
    },
    {
      "cell_type": "markdown",
      "source": [
        "###Connecting DBT cloud to SNF - Manually\n",
        "\n",
        "\n",
        "\n",
        "Create a new project in dbt Cloud. From Account settings (using the gear menu in the top right corner), click + New Project.\n",
        "\n",
        "Enter a project name and click Continue.\n",
        "\n",
        "For the warehouse, click Snowflake then Next to set up your connection.\n",
        "\n",
        "\n",
        "Enter your **Settings** for Snowflake.\n",
        "\n",
        "Enter your **Development Credentials** for Snowflake.\n",
        "\n",
        "Verify the Connection - TEST CONNECTION\n",
        "\n",
        "###Setup a DBT cloud management repository\n",
        "\n",
        "Under \"Setup a repository\", select Managed.\n",
        "Type a name for your repo such as BigData-Assignment3\n",
        "Click Create.\n",
        "\n"
      ],
      "metadata": {
        "id": "H3w1JM3Y9zkd"
      }
    },
    {
      "cell_type": "markdown",
      "source": [
        "##Initialize and start of DBT project\n",
        "\n",
        "###Building the first Model:"
      ],
      "metadata": {
        "id": "fNRherxT_Rsy"
      }
    },
    {
      "cell_type": "code",
      "source": [
        "WITH cfa_content_dataset AS (\n",
        "    SELECT\n",
        "        Level,\n",
        "        Topic_Name,\n",
        "        Year_,\n",
        "        LENGTH(INTRODUCTION_SUMMARY) AS Summary_Length,\n",
        "        LENGTH(LEARNING_OUTCOMES) AS Learning_Outcomes_Length,\n",
        "        NULL AS file_path,\n",
        "        NULL AS Number_of_Articles\n",
        "    FROM {{ ref('stg_CFA') }}\n",
        "),\n",
        "grobidmetadata_new AS (\n",
        "    SELECT\n",
        "        NULL AS Level,\n",
        "        NULL AS Topic,\n",
        "        NULL AS Year,\n",
        "        NULL AS Summary_Length,\n",
        "        NULL AS Learning_Outcomes_Length,\n",
        "        file_path,\n",
        "        number_of_articles\n",
        "    FROM {{ ref('stg_grobidMetaData') }}\n",
        "),\n",
        "combined_data AS (\n",
        "    SELECT * FROM cfa_content_dataset\n",
        "    UNION ALL\n",
        "    SELECT * FROM grobidmetadata_new\n",
        ")\n",
        "\n",
        "SELECT\n",
        "    Level,\n",
        "    Topic_Name,\n",
        "    Year_,\n",
        "    MIN(Summary_Length) AS Min_Length_Summary,\n",
        "    MAX(Summary_Length) AS Max_Length_Summary,\n",
        "    MIN(Learning_Outcomes_Length) AS Min_Length_Learning_Outcomes,\n",
        "    MAX(Learning_Outcomes_Length) AS Max_Length_Learning_Outcomes,\n",
        "    file_path,\n",
        "    number_of_articles\n",
        "FROM combined_data\n",
        "GROUP BY Level, Topic_Name, Year_, file_path, number_of_articles"
      ],
      "metadata": {
        "id": "0YsjoHu-_REM"
      },
      "execution_count": null,
      "outputs": []
    },
    {
      "cell_type": "code",
      "source": [
        "#run in the terminal\n",
        "dbt run"
      ],
      "metadata": {
        "id": "ts2OBOPQ9gcU"
      },
      "execution_count": null,
      "outputs": []
    },
    {
      "cell_type": "code",
      "source": [
        "#materailzation of the model created above\n",
        "--------------\n",
        "{{\n",
        "  config(\n",
        "    materialized='view'\n",
        "  )\n",
        "}}\n",
        "------------------\n",
        "WITH cfa_content_dataset AS (\n",
        "    SELECT\n",
        "        Level,\n",
        "        Topic_Name,\n",
        "        Year_,\n",
        "        LENGTH(INTRODUCTION_SUMMARY) AS Summary_Length,\n",
        "        LENGTH(LEARNING_OUTCOMES) AS Learning_Outcomes_Length,\n",
        "        NULL AS file_path,\n",
        "        NULL AS Number_of_Articles\n",
        "    FROM {{ ref('stg_CFA') }}\n",
        "),\n",
        "grobidmetadata_new AS (\n",
        "    SELECT\n",
        "        NULL AS Level,\n",
        "        NULL AS Topic,\n",
        "        NULL AS Year,\n",
        "        NULL AS Summary_Length,\n",
        "        NULL AS Learning_Outcomes_Length,\n",
        "        file_path,\n",
        "        number_of_articles\n",
        "    FROM {{ ref('stg_grobidMetaData') }}\n",
        "),\n",
        "combined_data AS (\n",
        "    SELECT * FROM cfa_content_dataset\n",
        "    UNION ALL\n",
        "    SELECT * FROM grobidmetadata_new\n",
        ")\n",
        "\n",
        "SELECT\n",
        "    Level,\n",
        "    Topic_Name,\n",
        "    Year_,\n",
        "    MIN(Summary_Length) AS Min_Length_Summary,\n",
        "    MAX(Summary_Length) AS Max_Length_Summary,\n",
        "    MIN(Learning_Outcomes_Length) AS Min_Length_Learning_Outcomes,\n",
        "    MAX(Learning_Outcomes_Length) AS Max_Length_Learning_Outcomes,\n",
        "    file_path,\n",
        "    number_of_articles\n",
        "FROM combined_data\n",
        "GROUP BY Level, Topic_Name, Year_, file_path, number_of_articles"
      ],
      "metadata": {
        "id": "d5fS_IIVAHMw"
      },
      "execution_count": null,
      "outputs": []
    },
    {
      "cell_type": "markdown",
      "source": [
        "###Building models on top of sources"
      ],
      "metadata": {
        "id": "BHDi1yK9Ar91"
      }
    },
    {
      "cell_type": "code",
      "source": [
        "#stg_CFA\n",
        "\n",
        "\n",
        "select\n",
        "    ID as ID,\n",
        "    Topic_Name as Topic_Name,\n",
        "    Year as Year_,\n",
        "    Level as Level,\n",
        "    INTRODUCTION_SUMMARY as INTRODUCTION_SUMMARY,\n",
        "    LEARNING_OUTCOMES as LEARNING_OUTCOMES,\n",
        "    SUMMARY_PAGE_LINK as SUMMARY_PAGE_LINK,\n",
        "    PDF_FILE_LINK as PDF_FILE_LINK\n",
        "\n",
        "from {{ source('cfa_data', 'CFA_CONTENT_DATASET') }}"
      ],
      "metadata": {
        "id": "om_B3BtVAdMa"
      },
      "execution_count": null,
      "outputs": []
    },
    {
      "cell_type": "code",
      "source": [
        "#stg_grobidMetadata\n",
        "\n",
        "\n",
        "-- stg_grobidMetaData.sql\n",
        "\n",
        "SELECT\n",
        "    file_path AS file_path,\n",
        "    FILE_SIZE AS file_size,\n",
        "    NUMBER_OF_ARTICLES AS number_of_articles,\n",
        "    CREATION_TIME AS creation_time,\n",
        "    MODIFICATION_TIME AS modification_time,\n",
        "    ENCODING_LANGUAGE AS encoding_language\n",
        "FROM {{ source('grobid_data','GROBIDMETADATA_NEW') }}\n"
      ],
      "metadata": {
        "id": "VyYRX_ZQA_Qz"
      },
      "execution_count": null,
      "outputs": []
    },
    {
      "cell_type": "code",
      "source": [
        "#contents.sql\n",
        "\n",
        "\n",
        "\n",
        "{{\n",
        "  config(\n",
        "    materialized='view'\n",
        "  )\n",
        "}}\n",
        "\n",
        "WITH cfa_content_dataset AS (\n",
        "    SELECT\n",
        "        Level,\n",
        "        Topic_Name,\n",
        "        Year_,\n",
        "        LENGTH(INTRODUCTION_SUMMARY) AS Summary_Length,\n",
        "        LENGTH(LEARNING_OUTCOMES) AS Learning_Outcomes_Length,\n",
        "        NULL AS file_path,\n",
        "        NULL AS Number_of_Articles\n",
        "    FROM {{ ref('stg_CFA') }}\n",
        "),\n",
        "grobidmetadata_new AS (\n",
        "    SELECT\n",
        "        NULL AS Level,\n",
        "        NULL AS Topic,\n",
        "        NULL AS Year,\n",
        "        NULL AS Summary_Length,\n",
        "        NULL AS Learning_Outcomes_Length,\n",
        "        file_path,\n",
        "        number_of_articles\n",
        "    FROM {{ ref('stg_grobidMetaData') }}\n",
        "),\n",
        "combined_data AS (\n",
        "    SELECT * FROM cfa_content_dataset\n",
        "    UNION ALL\n",
        "    SELECT * FROM grobidmetadata_new\n",
        ")\n",
        "\n",
        "SELECT\n",
        "    Level,\n",
        "    Topic_Name,\n",
        "    Year_,\n",
        "    MIN(Summary_Length) AS Min_Length_Summary,\n",
        "    MAX(Summary_Length) AS Max_Length_Summary,\n",
        "    MIN(Learning_Outcomes_Length) AS Min_Length_Learning_Outcomes,\n",
        "    MAX(Learning_Outcomes_Length) AS Max_Length_Learning_Outcomes,\n",
        "    file_path,\n",
        "    number_of_articles\n",
        "FROM combined_data\n",
        "GROUP BY Level, Topic_Name, Year_, file_path, number_of_articles\n"
      ],
      "metadata": {
        "id": "y6BcZgavBFbc"
      },
      "execution_count": null,
      "outputs": []
    },
    {
      "cell_type": "markdown",
      "source": [
        "creating source.yml files for building the models on top of the sources\n",
        "\n",
        "Sources make it possible to name and describe the data loaded into your warehouse by your extract and load tools.\n",
        "\n",
        "select from source tables in your models using the {{ source() }} function, helping define the lineage of your data"
      ],
      "metadata": {
        "id": "AB8MPCetBcKg"
      }
    },
    {
      "cell_type": "code",
      "source": [
        "#source.yml\n",
        "\n",
        "\n",
        "version: 2\n",
        "\n",
        "sources:\n",
        "  - name: cfa_data\n",
        "    description: This is a replica of the Postgres database used by our app\n",
        "    database: raw\n",
        "    schema: cfa_data\n",
        "    tables:\n",
        "      - name: CFA_CONTENT_DATASET\n",
        "        description: contains file contents extracted from CFA using beautifulsoup [webscraping]\n",
        "\n",
        "  - name: grobid_data\n",
        "    description: Grobid data schema\n",
        "    database: raw\n",
        "    schema: grobid_data\n",
        "    tables:\n",
        "      - name: GROBIDMETADATA_NEW\n",
        "        description: contains metadata of grobid files\n",
        "      - name: GROBIDCONTENT\n",
        "        description: contains file contents extracted from Grobid\n",
        "\n"
      ],
      "metadata": {
        "id": "apfKgaSJBZL3"
      },
      "execution_count": null,
      "outputs": []
    },
    {
      "cell_type": "markdown",
      "source": [
        "###implementing testing\n"
      ],
      "metadata": {
        "id": "k3pcTWnoByZY"
      }
    },
    {
      "cell_type": "code",
      "source": [
        "#schema.yml\n",
        "\n",
        "\n",
        "version: 2\n",
        "\n",
        "models:\n",
        "  - name: cfa_contents\n",
        "    columns:\n",
        "      - name: Level\n",
        "        tests:\n",
        "          - not_null\n",
        "        description: NULL when a level is missing\n",
        "      - name: Topic\n",
        "        tests:\n",
        "          - not_null\n",
        "        description: NULL when a Topic is missing\n",
        "     Initialize your dbt project​ and start developing\n",
        "Now that you have a repository configured, you can initialize your project and start development in dbt Cloud:\n",
        "          -  range_check:\n",
        "              start: 2000\n",
        "              end: 2050\n",
        "        description: the year should range bet 2000 - 2050\n",
        "\n",
        "      - name: Min_Length_Summary\n",
        "        tests:\n",
        "          - not_null\n",
        "        description: gives min-length_summary\n",
        "      - name: Max_Length_Summary\n",
        "        tests:\n",
        "          - not_null\n",
        "        description: gives max-length_summary\n",
        "      - name: Min_Length_Learning_Outcomes\n",
        "        tests:\n",
        "          - not_null\n",
        "        description: gives min-length_LO\n",
        "      - name: Max_Length_Learning_Outcomes\n",
        "        tests:\n",
        "          - not_null\n",
        "        description: gives max-length_LO\n",
        "\n",
        "  - name: stg_cfaContent\n",
        "    columns:\n",
        "      - name: ID\n",
        "        tests:\n",
        "          - unique\n",
        "          - not_null\n",
        "\n",
        "      - name: Topic_Name\n",
        "        tests:\n",
        "          - not_null\n",
        "      - name: YEAR_\n",
        "        tests:\n",
        "          - not_null\n",
        "      - name: Level\n",
        "        tests:\n",
        "          - not_null\n",
        "      - name: INTRODUCTION_SUMMARY\n",
        "        tests:\n",
        "          - not_null\n",
        "      - name: LEARNING_OUTCOMES\n",
        "        tests:\n",
        "          - not_null\n",
        "      - name: SUMMARY_PAGE_LINK\n",
        "        tests:\n",
        "          - not_null\n",
        "      - name: PDF_FILE_LINK\n",
        "        tests:\n",
        "          - not_null\n",
        "\n",
        "  - name: stg_grobidMetaData\n",
        "    columns:\n",
        "      - name: file_path\n",
        "        tests:\n",
        "          - unique\n",
        "          - not_null\n",
        "      - name: file_size\n",
        "        tests:\n",
        "          - not_null\n",
        "      - name: number_of_articles\n",
        "        tests:\n",
        "          - not_null\n",
        "      - name: creation_time\n",
        "        tests:\n",
        "          - not_null\n",
        "      - name: modification_time\n",
        "        tests:\n",
        "          - not_null\n",
        "      - name: encoding_language\n",
        "        tests:\n",
        "          - not_null\n"
      ],
      "metadata": {
        "id": "naQ_BwXVB2_c"
      },
      "execution_count": null,
      "outputs": []
    },
    {
      "cell_type": "code",
      "source": [
        "#run to check the test case outcomes\n",
        "dbt test"
      ],
      "metadata": {
        "id": "hEZdaPU2B9JU"
      },
      "execution_count": null,
      "outputs": []
    },
    {
      "cell_type": "markdown",
      "source": [
        "After successful testing, commit the changes and merge to main branch\n"
      ],
      "metadata": {
        "id": "XrujDUaUCH3s"
      }
    },
    {
      "cell_type": "markdown",
      "source": [
        "###Deploy DBT\n",
        "\n",
        "environments are created for deployment\n",
        "\n",
        "* test\n",
        "* Prod"
      ],
      "metadata": {
        "id": "bw1x3UtlCRvy"
      }
    }
  ]
}