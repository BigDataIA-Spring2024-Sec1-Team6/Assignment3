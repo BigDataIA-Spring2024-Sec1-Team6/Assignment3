{
 "cells": [
  {
   "cell_type": "markdown",
   "id": "62323797",
   "metadata": {},
   "source": [
    "## MetaDataPDFClass"
   ]
  },
  {
   "cell_type": "markdown",
   "id": "ccc2e509",
   "metadata": {},
   "source": [
    "Validations using Pydantic"
   ]
  },
  {
   "cell_type": "code",
   "execution_count": 54,
   "id": "7a18e436",
   "metadata": {},
   "outputs": [
    {
     "name": "stderr",
     "output_type": "stream",
     "text": [
      "/var/folders/xp/c_wx8kld3r9f7vpp0hvq86380000gn/T/ipykernel_26618/3844353033.py:14: PydanticDeprecatedSince20: Pydantic V1 style `@validator` validators are deprecated. You should migrate to Pydantic V2 style `@field_validator` validators, see the migration guide for more details. Deprecated in Pydantic V2.0 to be removed in V3.0. See Pydantic V2 Migration Guide at https://errors.pydantic.dev/2.6/migration/\n",
      "  @validator('file_path')\n",
      "/var/folders/xp/c_wx8kld3r9f7vpp0hvq86380000gn/T/ipykernel_26618/3844353033.py:22: PydanticDeprecatedSince20: Pydantic V1 style `@validator` validators are deprecated. You should migrate to Pydantic V2 style `@field_validator` validators, see the migration guide for more details. Deprecated in Pydantic V2.0 to be removed in V3.0. See Pydantic V2 Migration Guide at https://errors.pydantic.dev/2.6/migration/\n",
      "  @validator('file_size')\n",
      "/var/folders/xp/c_wx8kld3r9f7vpp0hvq86380000gn/T/ipykernel_26618/3844353033.py:28: PydanticDeprecatedSince20: Pydantic V1 style `@validator` validators are deprecated. You should migrate to Pydantic V2 style `@field_validator` validators, see the migration guide for more details. Deprecated in Pydantic V2.0 to be removed in V3.0. See Pydantic V2 Migration Guide at https://errors.pydantic.dev/2.6/migration/\n",
      "  @validator('number_of_articles')\n",
      "/var/folders/xp/c_wx8kld3r9f7vpp0hvq86380000gn/T/ipykernel_26618/3844353033.py:35: PydanticDeprecatedSince20: Pydantic V1 style `@validator` validators are deprecated. You should migrate to Pydantic V2 style `@field_validator` validators, see the migration guide for more details. Deprecated in Pydantic V2.0 to be removed in V3.0. See Pydantic V2 Migration Guide at https://errors.pydantic.dev/2.6/migration/\n",
      "  @validator('creation_time', 'modification_time', pre=True)\n",
      "/var/folders/xp/c_wx8kld3r9f7vpp0hvq86380000gn/T/ipykernel_26618/3844353033.py:42: PydanticDeprecatedSince20: Pydantic V1 style `@validator` validators are deprecated. You should migrate to Pydantic V2 style `@field_validator` validators, see the migration guide for more details. Deprecated in Pydantic V2.0 to be removed in V3.0. See Pydantic V2 Migration Guide at https://errors.pydantic.dev/2.6/migration/\n",
      "  @validator('encoding_language')\n"
     ]
    }
   ],
   "source": [
    "import pytest\n",
    "from pydantic import BaseModel, ValidationError, constr, conint, validator\n",
    "from datetime import datetime\n",
    "from pathlib import Path\n",
    "\n",
    "class MetaDataPDFClass(BaseModel):\n",
    "    file_path: constr(min_length=1, max_length=200)\n",
    "    file_size: constr(min_length=1, max_length=200)\n",
    "    number_of_articles: conint(gt=0)  # Positive integer, required\n",
    "    creation_time: datetime\n",
    "    modification_time: datetime\n",
    "    encoding_language: constr(min_length=1, max_length=200)\n",
    "\n",
    "    @validator('file_path')\n",
    "    @classmethod\n",
    "    def validate_file_path(cls, value):\n",
    "        file_path = Path(value)\n",
    "        if not file_path.exists():  # Check if file_path exists\n",
    "            raise ValueError('File path does not exist')\n",
    "        return value\n",
    "\n",
    "    @validator('file_size')\n",
    "    @classmethod\n",
    "    def validate_file_size(cls, value):\n",
    "        # Add your custom validation logic for file_size, if needed\n",
    "        return value\n",
    "\n",
    "    @validator('number_of_articles')\n",
    "    @classmethod\n",
    "    def validate_number_of_articles(cls, value):\n",
    "        # No need for strip() as it's an integer\n",
    "        # Custom validation logic for number_of_articles, if needed\n",
    "        return value\n",
    "\n",
    "    @validator('creation_time', 'modification_time', pre=True)\n",
    "    @classmethod\n",
    "    def validate_datetime(cls, value):\n",
    "        if not isinstance(value, datetime):\n",
    "            raise ValueError('Invalid datetime format')\n",
    "        return value\n",
    "\n",
    "    @validator('encoding_language')\n",
    "    @classmethod\n",
    "    def validate_encoding_language(cls, value):\n",
    "        known_encodings = ['UTF-8', 'ASCII', 'ISO-8859-1']  # Extend this list as needed\n",
    "        if value not in known_encodings:\n",
    "            raise ValueError('encoding_language must be a known encoding type')\n",
    "        return value\n",
    "\n"
   ]
  },
  {
   "cell_type": "markdown",
   "id": "2aff702e",
   "metadata": {},
   "source": [
    "Testing with Pytest"
   ]
  },
  {
   "cell_type": "code",
   "execution_count": 83,
   "id": "1953fc80",
   "metadata": {},
   "outputs": [],
   "source": [
    "\n",
    "def test_invalid_file_path():\n",
    "    # Invalid file path (file does not exist)\n",
    "    data = {\n",
    "    \n",
    "    \"file_path\": \"/Users/manyareddy/Downloads/yo.csv\",\n",
    "    \"file_size\": \"123 B\",\n",
    "    \"number_of_articles\": \"32\",\n",
    "    \"creation_time\": \"datetime.now()\",\n",
    "    \"modification_time\": \"datetime.now()\",\n",
    "    \"encoding_language\": \"UTF-8\"\n",
    "        \n",
    "    }\n",
    "    # Ensure validation error is raised for non-existent file path\n",
    "    with pytest.raises(ValueError):\n",
    "        MetaDataPDFClass(**data)\n",
    "\n",
    "\n",
    "\n",
    "def test_valid_data():\n",
    "    # Valid data\n",
    "    data = {\n",
    "    \"file_path\": \"/Users/manyareddy/Downloads/metadata.csv\",\n",
    "    \"file_size\": \"123 B\",\n",
    "    \"number_of_articles\": \"32\",\n",
    "    \"creation_time\": \"datetime.now()\",\n",
    "    \"modification_time\": \"datetime.now()\",\n",
    "    \"encoding_language\": \"UTF-8\"\n",
    "    }\n",
    "    # Ensure no validation error is raised\n",
    "    assert MetaDataPDFClass(**data)\n",
    "\n",
    "def test_invalid_text():\n",
    "    # Invalid text (empty)\n",
    "    data = {\n",
    "    \"file_path\": \"/Users/manyareddy/Downloads/metadata.csv\",\n",
    "    \"file_size\": \"\",\n",
    "    \"number_of_articles\": \"\",\n",
    "    \"creation_time\": \"\",\n",
    "    \"modification_time\": \"\",\n",
    "    \"encoding_language\": \"\"\n",
    "    }\n",
    "    assert MetaDataPDFClass(**data)\n",
    "\n",
    "\n",
    "def test_invalid_file_path():\n",
    "    # Invalid file path (file does not exist)\n",
    "    data = {\n",
    "    \"file_path\": \"/Users/manyareddy/Downloads/yo.csv\",\n",
    "    \"file_size\": \"123 B\",\n",
    "    \"number_of_articles\": \"32\",\n",
    "    \"creation_time\": \"datetime.now()\",\n",
    "    \"modification_time\": \"datetime.now()\",\n",
    "    \"encoding_language\": \"UTF-8\"\n",
    "    }\n",
    "    # Ensure validation error is raised for non-existent file path\n",
    "    with pytest.raises(ValueError):\n",
    "        MetaDataPDFClass(**data)\n"
   ]
  },
  {
   "cell_type": "code",
   "execution_count": 57,
   "id": "092d66b4",
   "metadata": {},
   "outputs": [
    {
     "ename": "ValidationError",
     "evalue": "5 validation errors for MetaDataPDFClass\nfile_size\n  String should have at least 1 character [type=string_too_short, input_value='', input_type=str]\n    For further information visit https://errors.pydantic.dev/2.6/v/string_too_short\nnumber_of_articles\n  Input should be a valid integer, unable to parse string as an integer [type=int_parsing, input_value='', input_type=str]\n    For further information visit https://errors.pydantic.dev/2.6/v/int_parsing\ncreation_time\n  Value error, Invalid datetime format [type=value_error, input_value='', input_type=str]\n    For further information visit https://errors.pydantic.dev/2.6/v/value_error\nmodification_time\n  Value error, Invalid datetime format [type=value_error, input_value='', input_type=str]\n    For further information visit https://errors.pydantic.dev/2.6/v/value_error\nencoding_language\n  String should have at least 1 character [type=string_too_short, input_value='', input_type=str]\n    For further information visit https://errors.pydantic.dev/2.6/v/string_too_short",
     "output_type": "error",
     "traceback": [
      "\u001b[0;31m---------------------------------------------------------------------------\u001b[0m",
      "\u001b[0;31mValidationError\u001b[0m                           Traceback (most recent call last)",
      "Cell \u001b[0;32mIn[57], line 1\u001b[0m\n\u001b[0;32m----> 1\u001b[0m \u001b[43mtest_invalid_text\u001b[49m\u001b[43m(\u001b[49m\u001b[43m)\u001b[49m\n",
      "Cell \u001b[0;32mIn[54], line 92\u001b[0m, in \u001b[0;36mtest_invalid_text\u001b[0;34m()\u001b[0m\n\u001b[1;32m     82\u001b[0m \u001b[38;5;28;01mdef\u001b[39;00m \u001b[38;5;21mtest_invalid_text\u001b[39m():\n\u001b[1;32m     83\u001b[0m     \u001b[38;5;66;03m# Invalid text (empty)\u001b[39;00m\n\u001b[1;32m     84\u001b[0m     data \u001b[38;5;241m=\u001b[39m {\n\u001b[1;32m     85\u001b[0m     \u001b[38;5;124m\"\u001b[39m\u001b[38;5;124mfile_path\u001b[39m\u001b[38;5;124m\"\u001b[39m: \u001b[38;5;124m\"\u001b[39m\u001b[38;5;124m/Users/manyareddy/Downloads/metadata.csv\u001b[39m\u001b[38;5;124m\"\u001b[39m,\n\u001b[1;32m     86\u001b[0m     \u001b[38;5;124m\"\u001b[39m\u001b[38;5;124mfile_size\u001b[39m\u001b[38;5;124m\"\u001b[39m: \u001b[38;5;124m\"\u001b[39m\u001b[38;5;124m\"\u001b[39m,\n\u001b[0;32m   (...)\u001b[0m\n\u001b[1;32m     90\u001b[0m     \u001b[38;5;124m\"\u001b[39m\u001b[38;5;124mencoding_language\u001b[39m\u001b[38;5;124m\"\u001b[39m: \u001b[38;5;124m\"\u001b[39m\u001b[38;5;124m\"\u001b[39m\n\u001b[1;32m     91\u001b[0m     }\n\u001b[0;32m---> 92\u001b[0m     \u001b[38;5;28;01massert\u001b[39;00m \u001b[43mMetaDataPDFClass\u001b[49m\u001b[43m(\u001b[49m\u001b[38;5;241;43m*\u001b[39;49m\u001b[38;5;241;43m*\u001b[39;49m\u001b[43mdata\u001b[49m\u001b[43m)\u001b[49m\n",
      "File \u001b[0;32m~/Library/Python/3.9/lib/python/site-packages/pydantic/main.py:171\u001b[0m, in \u001b[0;36mBaseModel.__init__\u001b[0;34m(self, **data)\u001b[0m\n\u001b[1;32m    169\u001b[0m \u001b[38;5;66;03m# `__tracebackhide__` tells pytest and some other tools to omit this function from tracebacks\u001b[39;00m\n\u001b[1;32m    170\u001b[0m __tracebackhide__ \u001b[38;5;241m=\u001b[39m \u001b[38;5;28;01mTrue\u001b[39;00m\n\u001b[0;32m--> 171\u001b[0m \u001b[38;5;28;43mself\u001b[39;49m\u001b[38;5;241;43m.\u001b[39;49m\u001b[43m__pydantic_validator__\u001b[49m\u001b[38;5;241;43m.\u001b[39;49m\u001b[43mvalidate_python\u001b[49m\u001b[43m(\u001b[49m\u001b[43mdata\u001b[49m\u001b[43m,\u001b[49m\u001b[43m \u001b[49m\u001b[43mself_instance\u001b[49m\u001b[38;5;241;43m=\u001b[39;49m\u001b[38;5;28;43mself\u001b[39;49m\u001b[43m)\u001b[49m\n",
      "\u001b[0;31mValidationError\u001b[0m: 5 validation errors for MetaDataPDFClass\nfile_size\n  String should have at least 1 character [type=string_too_short, input_value='', input_type=str]\n    For further information visit https://errors.pydantic.dev/2.6/v/string_too_short\nnumber_of_articles\n  Input should be a valid integer, unable to parse string as an integer [type=int_parsing, input_value='', input_type=str]\n    For further information visit https://errors.pydantic.dev/2.6/v/int_parsing\ncreation_time\n  Value error, Invalid datetime format [type=value_error, input_value='', input_type=str]\n    For further information visit https://errors.pydantic.dev/2.6/v/value_error\nmodification_time\n  Value error, Invalid datetime format [type=value_error, input_value='', input_type=str]\n    For further information visit https://errors.pydantic.dev/2.6/v/value_error\nencoding_language\n  String should have at least 1 character [type=string_too_short, input_value='', input_type=str]\n    For further information visit https://errors.pydantic.dev/2.6/v/string_too_short"
     ]
    }
   ],
   "source": [
    "test_invalid_text()"
   ]
  },
  {
   "cell_type": "code",
   "execution_count": 52,
   "id": "f3ed975a",
   "metadata": {},
   "outputs": [],
   "source": [
    "def test_invalid_file_path():\n",
    "    # Invalid file path (file does not exist)\n",
    "    data = {\n",
    "    \n",
    "    \"file_path\": \"afknalj\",\n",
    "    \"file_size\": \"123 B\",\n",
    "    \"number_of_articles\": \"32\",\n",
    "    \"creation_time\": \"datetime.now()\",\n",
    "    \"modification_time\": \"datetime.now()\",\n",
    "    \"encoding_language\": \"UTF-8\"\n",
    "        \n",
    "    }\n",
    "    # Ensure validation error is raised for non-existent file path\n",
    "    with pytest.raises(ValueError):\n",
    "        MetaDataPDFClass(**data)"
   ]
  },
  {
   "cell_type": "code",
   "execution_count": 53,
   "id": "47630bb8",
   "metadata": {},
   "outputs": [],
   "source": [
    "test_invalid_file_path()"
   ]
  },
  {
   "cell_type": "markdown",
   "id": "73612654",
   "metadata": {},
   "source": [
    "## ContentPDFClass"
   ]
  },
  {
   "cell_type": "markdown",
   "id": "0d605ce6",
   "metadata": {},
   "source": [
    "Validations using Pydantic "
   ]
  },
  {
   "cell_type": "code",
   "execution_count": 59,
   "id": "96720567",
   "metadata": {},
   "outputs": [
    {
     "name": "stderr",
     "output_type": "stream",
     "text": [
      "/var/folders/xp/c_wx8kld3r9f7vpp0hvq86380000gn/T/ipykernel_26618/889402256.py:8: PydanticDeprecatedSince20: Pydantic V1 style `@validator` validators are deprecated. You should migrate to Pydantic V2 style `@field_validator` validators, see the migration guide for more details. Deprecated in Pydantic V2.0 to be removed in V3.0. See Pydantic V2 Migration Guide at https://errors.pydantic.dev/2.6/migration/\n",
      "  @validator('text')\n",
      "/var/folders/xp/c_wx8kld3r9f7vpp0hvq86380000gn/T/ipykernel_26618/889402256.py:15: PydanticDeprecatedSince20: Pydantic V1 style `@validator` validators are deprecated. You should migrate to Pydantic V2 style `@field_validator` validators, see the migration guide for more details. Deprecated in Pydantic V2.0 to be removed in V3.0. See Pydantic V2 Migration Guide at https://errors.pydantic.dev/2.6/migration/\n",
      "  @validator('file_path')\n"
     ]
    }
   ],
   "source": [
    "from pydantic import BaseModel, constr, validator\n",
    "from pathlib import Path\n",
    "\n",
    "class ContentClass(BaseModel):\n",
    "    text: constr(min_length=10, max_length=10000)  # Assuming these length constraints\n",
    "    file_path: constr(min_length=1, max_length=200)\n",
    "\n",
    "    @validator('text')\n",
    "    @classmethod\n",
    "    def validate_text(cls, value):\n",
    "        if not value.strip():  # Check if text is not empty or whitespace\n",
    "            raise ValueError('Text cannot be empty')\n",
    "        return value\n",
    "\n",
    "    @validator('file_path')\n",
    "    @classmethod\n",
    "    def validate_file_path(cls, value):\n",
    "        file_path = Path(value)\n",
    "        if not file_path.exists():  # Check if file_path exists\n",
    "            raise ValueError('File path does not exist')\n",
    "        return value\n"
   ]
  },
  {
   "cell_type": "markdown",
   "id": "cbff8978",
   "metadata": {},
   "source": [
    "Testing using Pytest"
   ]
  },
  {
   "cell_type": "code",
   "execution_count": 80,
   "id": "7b665c87",
   "metadata": {},
   "outputs": [],
   "source": [
    "import pytest\n",
    "from pydantic import ValidationError\n",
    "\n",
    "def test_valid_data():\n",
    "    # Valid data\n",
    "    data = {\n",
    "        \"text\": \"hi this is manimanya reddy its a beatiful day\",\n",
    "        \"file_path\": \"/Users/manyareddy/Downloads/content.csv\"\n",
    "    }\n",
    "    # Ensure no validation error is raised\n",
    "    assert ContentClass(**data)\n",
    "\n",
    "def test_invalid_text():\n",
    "    # Invalid text (empty)\n",
    "    data = {\n",
    "        \"text\": \"hi\",\n",
    "        \"file_path\": \"/Users/manyareddy/Downloads/content.csv\"\n",
    "    }\n",
    "    # Ensure validation error is raised for empty text\n",
    "    with pytest.raises(ValueError):\n",
    "        ContentClass(**data)\n",
    "\n",
    "def test_invalid_file_path():\n",
    "    # Invalid file path (file does not exist)\n",
    "    data = {\n",
    "        \"text\": \"this is text\",\n",
    "        \"file_path\": \"snfskndkz\"\n",
    "    }\n",
    "    # Ensure validation error is raised for non-existent file path\n",
    "    with pytest.raises(ValueError):\n",
    "        ContentClass(**data)\n"
   ]
  },
  {
   "cell_type": "code",
   "execution_count": 81,
   "id": "c5af0ee6",
   "metadata": {},
   "outputs": [],
   "source": [
    "def test_invalid_file_path():\n",
    "    # Invalid file path (file does not exist)\n",
    "    data = {\n",
    "        \"text\": \"this is text\",\n",
    "        \"file_path\": \"snfskndkz\"\n",
    "    }\n",
    "    # Ensure validation error is raised for non-existent file path\n",
    "    with pytest.raises(ValueError):\n",
    "        ContentClass(**data)"
   ]
  },
  {
   "cell_type": "code",
   "execution_count": 82,
   "id": "72fad783",
   "metadata": {},
   "outputs": [],
   "source": [
    "test_invalid_file_path()"
   ]
  }
 ],
 "metadata": {
  "kernelspec": {
   "display_name": "Python 3 (ipykernel)",
   "language": "python",
   "name": "python3"
  },
  "language_info": {
   "codemirror_mode": {
    "name": "ipython",
    "version": 3
   },
   "file_extension": ".py",
   "mimetype": "text/x-python",
   "name": "python",
   "nbconvert_exporter": "python",
   "pygments_lexer": "ipython3",
   "version": "3.9.6"
  }
 },
 "nbformat": 4,
 "nbformat_minor": 5
}
